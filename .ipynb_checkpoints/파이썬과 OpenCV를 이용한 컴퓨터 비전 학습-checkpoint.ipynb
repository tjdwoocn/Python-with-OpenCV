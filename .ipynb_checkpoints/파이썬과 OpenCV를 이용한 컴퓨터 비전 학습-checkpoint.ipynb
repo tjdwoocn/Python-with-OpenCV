{
 "cells": [
  {
   "cell_type": "code",
   "execution_count": 1,
   "metadata": {},
   "outputs": [
    {
     "name": "stdout",
     "output_type": "stream",
     "text": [
      "original image shape:  (512, 512, 3)\n"
     ]
    }
   ],
   "source": [
    "import cv2\n",
    "\n",
    "img = cv2.imread('data/Lena.png')\n",
    "print('original image shape: ', img.shape)"
   ]
  },
  {
   "cell_type": "code",
   "execution_count": 6,
   "metadata": {},
   "outputs": [
    {
     "name": "stdout",
     "output_type": "stream",
     "text": [
      "resized to 128*256 image shape:  (256, 128, 3)\n"
     ]
    }
   ],
   "source": [
    "width, height = 128, 256\n",
    "resized_img = cv2.resize(img, (width,height))\n",
    "print('resized to 128*256 image shape: ', resized_img.shape)"
   ]
  },
  {
   "cell_type": "code",
   "execution_count": 4,
   "metadata": {},
   "outputs": [
    {
     "data": {
      "text/plain": [
       "array([[[129, 137, 225],\n",
       "        [120, 134, 227],\n",
       "        [123, 136, 227],\n",
       "        ...,\n",
       "        [ 96,  88, 186],\n",
       "        [130, 142, 227],\n",
       "        [116, 139, 226]],\n",
       "\n",
       "       [[129, 137, 225],\n",
       "        [120, 134, 227],\n",
       "        [123, 136, 227],\n",
       "        ...,\n",
       "        [ 96,  88, 186],\n",
       "        [130, 142, 227],\n",
       "        [116, 139, 226]],\n",
       "\n",
       "       [[124, 136, 226],\n",
       "        [119, 133, 227],\n",
       "        [117, 133, 227],\n",
       "        ...,\n",
       "        [ 97,  91, 188],\n",
       "        [118, 130, 222],\n",
       "        [100, 111, 205]],\n",
       "\n",
       "       ...,\n",
       "\n",
       "       [[ 63,  29,  91],\n",
       "        [ 62,  27,  96],\n",
       "        [ 66,  30,  97],\n",
       "        ...,\n",
       "        [ 62,  33, 106],\n",
       "        [ 71,  48, 132],\n",
       "        [ 72,  60, 162]],\n",
       "\n",
       "       [[ 59,  24,  88],\n",
       "        [ 60,  24,  95],\n",
       "        [ 66,  28,  95],\n",
       "        ...,\n",
       "        [ 67,  39, 110],\n",
       "        [ 78,  58, 144],\n",
       "        [ 80,  70, 171]],\n",
       "\n",
       "       [[ 60,  27,  89],\n",
       "        [ 60,  24,  93],\n",
       "        [ 62,  24,  92],\n",
       "        ...,\n",
       "        [ 82,  50, 120],\n",
       "        [ 83,  65, 157],\n",
       "        [ 80,  71, 180]]], dtype=uint8)"
      ]
     },
     "execution_count": 4,
     "metadata": {},
     "output_type": "execute_result"
    }
   ],
   "source": [
    "w_mult, h_mult = 0.25, 0.5\n"
   ]
  },
  {
   "cell_type": "code",
   "execution_count": null,
   "metadata": {},
   "outputs": [],
   "source": []
  }
 ],
 "metadata": {
  "kernelspec": {
   "display_name": "Python 3",
   "language": "python",
   "name": "python3"
  },
  "language_info": {
   "codemirror_mode": {
    "name": "ipython",
    "version": 3
   },
   "file_extension": ".py",
   "mimetype": "text/x-python",
   "name": "python",
   "nbconvert_exporter": "python",
   "pygments_lexer": "ipython3",
   "version": "3.5.5"
  }
 },
 "nbformat": 4,
 "nbformat_minor": 2
}
