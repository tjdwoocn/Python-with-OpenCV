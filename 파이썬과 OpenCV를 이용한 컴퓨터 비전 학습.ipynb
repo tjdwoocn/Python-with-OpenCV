{
 "cells": [
  {
   "cell_type": "markdown",
   "metadata": {},
   "source": [
    "### 간단한 이미지 변환: 크기 조절 및 뒤집기"
   ]
  },
  {
   "cell_type": "code",
   "execution_count": 1,
   "metadata": {},
   "outputs": [
    {
     "name": "stdout",
     "output_type": "stream",
     "text": [
      "original image shape:  (512, 512, 3)\n"
     ]
    }
   ],
   "source": [
    "import cv2\n",
    "\n",
    "img = cv2.imread('data/Lena.png')\n",
    "print('original image shape: ', img.shape)"
   ]
  },
  {
   "cell_type": "code",
   "execution_count": 6,
   "metadata": {},
   "outputs": [
    {
     "name": "stdout",
     "output_type": "stream",
     "text": [
      "resized to 128*256 image shape:  (256, 128, 3)\n"
     ]
    }
   ],
   "source": [
    "width, height = 128, 256\n",
    "resized_img = cv2.resize(img, (width,height))\n",
    "print('resized to 128*256 image shape: ', resized_img.shape)"
   ]
  },
  {
   "cell_type": "markdown",
   "metadata": {},
   "source": [
    "- 이미지의 원본 너비와 높이에 대한 배수를 설정해 크기를 조절한다"
   ]
  },
  {
   "cell_type": "code",
   "execution_count": 10,
   "metadata": {},
   "outputs": [
    {
     "name": "stdout",
     "output_type": "stream",
     "text": [
      "image shape:  (256, 128, 3)\n"
     ]
    }
   ],
   "source": [
    "w_mult, h_mult = 0.25, 0.5\n",
    "resized_img = cv2.resize(img, (0,0), resized_img, w_mult, h_mult)\n",
    "print('image shape: ', resized_img.shape)"
   ]
  },
  {
   "cell_type": "code",
   "execution_count": 19,
   "metadata": {},
   "outputs": [],
   "source": [
    "# cv2.flip 함수의 마지막 인자로 0을 전달해 수평인 x축을 따라 이미지를 뒤집는다\n",
    "img_flip_along_x = cv2.flip(img,0)\n"
   ]
  },
  {
   "cell_type": "code",
   "execution_count": 20,
   "metadata": {},
   "outputs": [],
   "source": [
    "# 당연히 0보다 큰 값을 전달해 수직인 y축을 따라 이미지를 뒤집는다\n",
    "img_flip_along_y = cv2.flip(img,1)"
   ]
  },
  {
   "cell_type": "code",
   "execution_count": 21,
   "metadata": {},
   "outputs": [],
   "source": [
    "# 음수 값을 함수에 전달하면 x와 y를 동시에 뒤집는다\n",
    "img_flipped_xy = cv2.flip(img, -1)"
   ]
  },
  {
   "cell_type": "markdown",
   "metadata": {},
   "source": [
    "- cv2.resize에서 픽셀 사이의 값을 계산하는 방법을 정의하는 보간 모드를 변경할 수 있다. \n",
    "- 몇가지 보간 유형이 있으며 각기 다른 결과를 생성\n",
    "- 이 인자는 마지막 인자로 전달되며, 결과의 크기에는 영향주지 않고 결과물의 품질과 부드러움 정도에만 영향줌\n",
    "- 기본적으로 이중 선형 보간법 (cv2.INTER_LINEAR)이 사용됨\n"
   ]
  },
  {
   "cell_type": "markdown",
   "metadata": {},
   "source": [
    "### 손실 및 무손실 압축을 사용한 이미지 저장\n",
    "- 이미지 저장방법 (결과를 디스크에 저장하는 법)\n",
    "- 알고리즘을 돌린뒤의 피드백을 얻길 원할떄가 있음\n",
    "    - 이떄 최종 이미지나 윤곽선, 메트릭, 값 등과 같은 추가정보가 있는 이미지 파일로 피드백이 나오거나 복잡한 파이프라인의 개별 단계의 결과일 수 있다"
   ]
  },
  {
   "cell_type": "code",
   "execution_count": 26,
   "metadata": {},
   "outputs": [
    {
     "ename": "NameError",
     "evalue": "name 'params' is not defined",
     "output_type": "error",
     "traceback": [
      "\u001b[1;31m---------------------------------------------------------------------------\u001b[0m",
      "\u001b[1;31mNameError\u001b[0m                                 Traceback (most recent call last)",
      "\u001b[1;32m<ipython-input-26-fba50a39467c>\u001b[0m in \u001b[0;36m<module>\u001b[1;34m()\u001b[0m\n\u001b[0;32m      9\u001b[0m \u001b[1;33m\u001b[0m\u001b[0m\n\u001b[0;32m     10\u001b[0m \u001b[1;31m# 이미지를 저장하고 다시 불러들여 원본과 동일한지 비교한다\u001b[0m\u001b[1;33m\u001b[0m\u001b[1;33m\u001b[0m\u001b[0m\n\u001b[1;32m---> 11\u001b[1;33m \u001b[0msaved_img\u001b[0m \u001b[1;33m=\u001b[0m \u001b[0mcv2\u001b[0m\u001b[1;33m.\u001b[0m\u001b[0mimread\u001b[0m\u001b[1;33m(\u001b[0m\u001b[0mparams\u001b[0m\u001b[1;33m.\u001b[0m\u001b[0mout_png\u001b[0m\u001b[1;33m)\u001b[0m\u001b[1;33m\u001b[0m\u001b[0m\n\u001b[0m",
      "\u001b[1;31mNameError\u001b[0m: name 'params' is not defined"
     ]
    }
   ],
   "source": [
    "# 이미지 읽기\n",
    "img = cv2.imread('data/Lena.png')\n",
    "\n",
    "# 화질 손실 없이 PNG 형식으로 이미지를 저장한 다음 다시 읽어 들여 \n",
    "# 디스크에 저장하는 동안 모든 정보가 보존됐는지 확인\n",
    "\n",
    "# 낮은 압축률로 이미지를 저장, 파일 크기는 크지만 디코딩이 빠름\n",
    "cv2.imwrite('data/Lena_compressed.png', img, [cv2.IMWRITE_PNG_COMPRESSION, 0])\n",
    "\n",
    "# 이미지를 저장하고 다시 불러들여 원본과 동일한지 비교한다\n",
    "saved_img = cv2.imread(params.out_png)\n"
   ]
  },
  {
   "cell_type": "code",
   "execution_count": null,
   "metadata": {},
   "outputs": [],
   "source": []
  }
 ],
 "metadata": {
  "kernelspec": {
   "display_name": "Python 3",
   "language": "python",
   "name": "python3"
  },
  "language_info": {
   "codemirror_mode": {
    "name": "ipython",
    "version": 3
   },
   "file_extension": ".py",
   "mimetype": "text/x-python",
   "name": "python",
   "nbconvert_exporter": "python",
   "pygments_lexer": "ipython3",
   "version": "3.5.5"
  }
 },
 "nbformat": 4,
 "nbformat_minor": 2
}
