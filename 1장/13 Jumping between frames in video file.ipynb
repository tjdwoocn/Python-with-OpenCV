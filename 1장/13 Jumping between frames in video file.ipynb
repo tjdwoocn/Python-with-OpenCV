{
 "cells": [
  {
   "cell_type": "markdown",
   "metadata": {},
   "source": [
    "### 비디오 파일의 프레임 간 이동"
   ]
  },
  {
   "cell_type": "markdown",
   "metadata": {},
   "source": [
    "- VideoCapture 객체에서 다른 프레임 위치로 이동하는 방법"
   ]
  },
  {
   "cell_type": "markdown",
   "metadata": {},
   "source": [
    "1. 먼저 VideoCapture 객체를 만들고 총 프레임 수를 얻는다"
   ]
  },
  {
   "cell_type": "code",
   "execution_count": 1,
   "metadata": {},
   "outputs": [
    {
     "name": "stdout",
     "output_type": "stream",
     "text": [
      "Frame count: 182\n"
     ]
    }
   ],
   "source": [
    "import cv2\n",
    "\n",
    "capture = cv2.VideoCapture('./data/drop.avi')\n",
    "frame_count = int(capture.get(cv2.CAP_PROP_FRAME_COUNT))\n",
    "print('Frame count:', frame_count)"
   ]
  },
  {
   "cell_type": "markdown",
   "metadata": {},
   "source": [
    "2. 첫 번째 프레임을 가져온다"
   ]
  },
  {
   "cell_type": "code",
   "execution_count": 18,
   "metadata": {},
   "outputs": [
    {
     "name": "stdout",
     "output_type": "stream",
     "text": [
      "Position:  101\n"
     ]
    }
   ],
   "source": [
    "print('Position: ', int(capture.get(cv2.CAP_PROP_POS_FRAMES)))\n",
    "_, frame = capture.read()\n",
    "cv2.imshow('frame0', frame)"
   ]
  },
  {
   "cell_type": "markdown",
   "metadata": {},
   "source": [
    "3. capture.read 함수는 현재 비디오 위치를 한 프레임 앞으로 이동시킨다는 점에 유의\n",
    "4. 다음 프레임을 가져온다"
   ]
  },
  {
   "cell_type": "code",
   "execution_count": 2,
   "metadata": {},
   "outputs": [
    {
     "name": "stdout",
     "output_type": "stream",
     "text": [
      "Position:  0\n"
     ]
    }
   ],
   "source": [
    "print('Position: ', int(capture.get(cv2.CAP_PROP_POS_FRAMES)))\n",
    "_, frame = capture.read()\n",
    "cv2.imshow('frame1', frame)"
   ]
  },
  {
   "cell_type": "markdown",
   "metadata": {},
   "source": [
    "5. 100번째 프레임으로 이동"
   ]
  },
  {
   "cell_type": "code",
   "execution_count": 17,
   "metadata": {},
   "outputs": [
    {
     "name": "stdout",
     "output_type": "stream",
     "text": [
      "Position:  100\n"
     ]
    }
   ],
   "source": [
    "capture.set(cv2.CAP_PROP_POS_FRAMES, 100)\n",
    "print('Position: ', int(capture.get(cv2.CAP_PROP_POS_FRAMES)))\n",
    "_, frame = capture.read()\n",
    "cv2.imshow('frame100', frame)\n",
    "\n",
    "cv2.waitKey()\n",
    "cv2.destroyAllWindows()"
   ]
  },
  {
   "cell_type": "markdown",
   "metadata": {},
   "source": [
    "- cv2.CAP_PROP_POS_FRAME 프로퍼티를 사용해 비디오 위치를 얻고 설정한다\n",
    "- "
   ]
  },
  {
   "cell_type": "code",
   "execution_count": 2,
   "metadata": {},
   "outputs": [
    {
     "name": "stdout",
     "output_type": "stream",
     "text": [
      "Frame count: 182\n",
      "Position: 0\n",
      "Position: 1\n",
      "Position: 100\n"
     ]
    }
   ],
   "source": [
    "import cv2\n",
    "\n",
    "capture = cv2.VideoCapture('./data/drop.avi')\n",
    "frame_count = int(capture.get(cv2.CAP_PROP_FRAME_COUNT))\n",
    "print('Frame count:', frame_count)\n",
    "\n",
    "print('Position:', int(capture.get(cv2.CAP_PROP_POS_FRAMES)))\n",
    "_, frame = capture.read()\n",
    "cv2.imshow('frame0', frame)\n",
    "\n",
    "print('Position:', int(capture.get(cv2.CAP_PROP_POS_FRAMES)))\n",
    "_, frame = capture.read()\n",
    "cv2.imshow('frame1', frame)\n",
    "\n",
    "capture.set(cv2.CAP_PROP_POS_FRAMES, 100)\n",
    "print('Position:', int(capture.get(cv2.CAP_PROP_POS_FRAMES)))\n",
    "_, frame = capture.read()\n",
    "cv2.imshow('frame100', frame)\n",
    "    \n",
    "cv2.waitKey()\n",
    "cv2.destroyAllWindows()"
   ]
  },
  {
   "cell_type": "code",
   "execution_count": null,
   "metadata": {},
   "outputs": [],
   "source": []
  }
 ],
 "metadata": {
  "kernelspec": {
   "display_name": "Python 3",
   "language": "python",
   "name": "python3"
  },
  "language_info": {
   "codemirror_mode": {
    "name": "ipython",
    "version": 3
   },
   "file_extension": ".py",
   "mimetype": "text/x-python",
   "name": "python",
   "nbconvert_exporter": "python",
   "pygments_lexer": "ipython3",
   "version": "3.5.5"
  }
 },
 "nbformat": 4,
 "nbformat_minor": 2
}
