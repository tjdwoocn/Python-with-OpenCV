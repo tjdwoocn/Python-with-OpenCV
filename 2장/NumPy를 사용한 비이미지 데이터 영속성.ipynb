{
 "cells": [
  {
   "cell_type": "markdown",
   "metadata": {},
   "source": [
    "### 03 Non-image data persistence using numpy"
   ]
  },
  {
   "cell_type": "markdown",
   "metadata": {},
   "source": [
    "- 이전에는 OpenCV의 cv2.imwrite 와 cv2.imread 함수를 사용해 이미지만을 저장하거나 불러왔다\n",
    "- 하지만 NumPy 의 데이터 영속성으로 이미지뿐만 아니라 어떠한 형태나 데이터 타입의 행렬 또한 저장 가능하다"
   ]
  },
  {
   "cell_type": "markdown",
   "metadata": {},
   "source": [
    "1. 필요한 모든 모듈을 가져오고 임의의 값으로 초기화된 행렬을 생성하고 속성을 출력"
   ]
  },
  {
   "cell_type": "code",
   "execution_count": 4,
   "metadata": {},
   "outputs": [
    {
     "name": "stdout",
     "output_type": "stream",
     "text": [
      "Shape:  (100, 100)\n",
      "Data type:  float32\n"
     ]
    }
   ],
   "source": [
    "import cv2\n",
    "import numpy as np\n",
    "\n",
    "mat = np.random.rand(100,100).astype(np.float32)\n",
    "print('Shape: ', mat.shape)\n",
    "print('Data type: ', mat.dtype)"
   ]
  },
  {
   "cell_type": "markdown",
   "metadata": {},
   "source": [
    "2. np.savetxt 함수를 이용해 앞에서 생성한 행렬을 파일로 저장하기"
   ]
  },
  {
   "cell_type": "code",
   "execution_count": 5,
   "metadata": {},
   "outputs": [],
   "source": [
    "np.savetxt('mat.csv', mat)"
   ]
  },
  {
   "cell_type": "markdown",
   "metadata": {},
   "source": [
    "3. 앞에서 저장한 파일을 다시 불러와 형태와 타입을 출력하기"
   ]
  },
  {
   "cell_type": "code",
   "execution_count": 6,
   "metadata": {
    "scrolled": true
   },
   "outputs": [
    {
     "name": "stdout",
     "output_type": "stream",
     "text": [
      "Shape:  (100, 100)\n",
      "Data type:  float32\n"
     ]
    }
   ],
   "source": [
    "mat = np.loadtxt('mat.csv').astype(np.float32)\n",
    "print('Shape: ', mat.shape)\n",
    "print('Data type: ', mat.dtype)"
   ]
  },
  {
   "cell_type": "markdown",
   "metadata": {},
   "source": [
    "- Numpy의 savetxt와 loadtxt 함수를 사용해 모든 행렬을 저장하고 불러오는 것이 가능\n",
    "- 이 함수들은 텍스트 형식을 사용하기 때문에 텍스트 편집기로 파일의 내용을 확인할 수 있다."
   ]
  },
  {
   "cell_type": "code",
   "execution_count": null,
   "metadata": {},
   "outputs": [],
   "source": []
  }
 ],
 "metadata": {
  "kernelspec": {
   "display_name": "Python 3",
   "language": "python",
   "name": "python3"
  },
  "language_info": {
   "codemirror_mode": {
    "name": "ipython",
    "version": 3
   },
   "file_extension": ".py",
   "mimetype": "text/x-python",
   "name": "python",
   "nbconvert_exporter": "python",
   "pygments_lexer": "ipython3",
   "version": "3.5.5"
  }
 },
 "nbformat": 4,
 "nbformat_minor": 2
}
