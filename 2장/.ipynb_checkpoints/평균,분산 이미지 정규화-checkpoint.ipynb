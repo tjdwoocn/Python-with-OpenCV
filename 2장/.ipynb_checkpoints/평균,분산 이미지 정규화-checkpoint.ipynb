{
 "cells": [
  {
   "cell_type": "markdown",
   "metadata": {},
   "source": [
    "### 07 Mean variance image normalization"
   ]
  },
  {
   "cell_type": "markdown",
   "metadata": {},
   "source": [
    "- 어떠한 값을 픽셀 값의 통계적 적률로 설정해야 할 때가 있다.\n",
    "- 값들의 평균값을 0으로 설정하고 분산을 1로 설정할 대 이 연산은 정규화 된다."
   ]
  },
  {
   "cell_type": "markdown",
   "metadata": {},
   "source": [
    "1. 필요한 모듈을 가져오고 이미지를 불러와 [0,1] 범위의 float 타입으로 변환"
   ]
  },
  {
   "cell_type": "code",
   "execution_count": 1,
   "metadata": {},
   "outputs": [],
   "source": [
    "import cv2\n",
    "import numpy as np\n",
    "\n",
    "image = cv2.imread('../data/Lena.png').astype(np.float32) / 255"
   ]
  },
  {
   "cell_type": "markdown",
   "metadata": {},
   "source": [
    "2. 각 이미지 픽셀에서 평균을 빼 제로 평균 행렬을 구한다. \n",
    "- 그리고 나서 각 픽셀 값을 표준 편차로 나눠 단위 분산 행렬을 얻는다"
   ]
  },
  {
   "cell_type": "code",
   "execution_count": 2,
   "metadata": {},
   "outputs": [],
   "source": [
    "image -= image.mean()\n",
    "image /= image.std()"
   ]
  },
  {
   "cell_type": "markdown",
   "metadata": {},
   "source": [
    "- 행렬을 Numpy 배열 클래스로 표현됨\n",
    "- 배열 클래스에는 평균과 표준 편차를 계산하는 함수가 제공됨\n",
    "- 행렬을 정규화하기 위해서는, 다시 말해 제로 평균과 단위 분산 행렬을 얻기 위해서는 \n",
    "- mean 을 호출해 얻은 결과로 평균을 빼고 이를 다시 표준 편차로 나눠준다\n",
    "- 여기선 평균과 표준 편차를 동시에 계산하는 cv2.meanStdDev를 사용함"
   ]
  },
  {
   "cell_type": "code",
   "execution_count": null,
   "metadata": {},
   "outputs": [],
   "source": []
  }
 ],
 "metadata": {
  "kernelspec": {
   "display_name": "Python 3",
   "language": "python",
   "name": "python3"
  },
  "language_info": {
   "codemirror_mode": {
    "name": "ipython",
    "version": 3
   },
   "file_extension": ".py",
   "mimetype": "text/x-python",
   "name": "python",
   "nbconvert_exporter": "python",
   "pygments_lexer": "ipython3",
   "version": "3.5.5"
  }
 },
 "nbformat": 4,
 "nbformat_minor": 2
}
