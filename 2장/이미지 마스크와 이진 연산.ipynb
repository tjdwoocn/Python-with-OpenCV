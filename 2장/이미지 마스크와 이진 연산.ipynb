{
 "cells": [
  {
   "cell_type": "markdown",
   "metadata": {},
   "source": [
    "### 18. Binary images images masks and binary operations"
   ]
  },
  {
   "cell_type": "markdown",
   "metadata": {},
   "source": [
    "- 이진 요소 단위의 연산을 적용하는 방법을 비롯한 이진 이미지로 작업하는 방법"
   ]
  },
  {
   "cell_type": "markdown",
   "metadata": {},
   "source": [
    "1. 필요한 모듈을 가져오고 원형 마스크로 이진 이미지를 생성한다"
   ]
  },
  {
   "cell_type": "code",
   "execution_count": 17,
   "metadata": {},
   "outputs": [
    {
     "data": {
      "text/plain": [
       "array([[0, 0, 0, ..., 0, 0, 0],\n",
       "       [0, 0, 0, ..., 0, 0, 0],\n",
       "       [0, 0, 0, ..., 0, 0, 0],\n",
       "       ...,\n",
       "       [0, 0, 0, ..., 0, 0, 0],\n",
       "       [0, 0, 0, ..., 0, 0, 0],\n",
       "       [0, 0, 0, ..., 0, 0, 0]], dtype=uint8)"
      ]
     },
     "execution_count": 17,
     "metadata": {},
     "output_type": "execute_result"
    }
   ],
   "source": [
    "import cv2\n",
    "import matplotlib.pyplot as plt\n",
    "import numpy as np\n",
    "\n",
    "circle_image = np.zeros((500,500), np.uint8)\n",
    "cv2.circle(circle_image, (250,250), 100, 255, -1)"
   ]
  },
  {
   "cell_type": "markdown",
   "metadata": {},
   "source": [
    "2. 사각형 마스크로 이진 이미지를 생성한다"
   ]
  },
  {
   "cell_type": "code",
   "execution_count": 18,
   "metadata": {},
   "outputs": [
    {
     "data": {
      "text/plain": [
       "array([[0, 0, 0, ..., 0, 0, 0],\n",
       "       [0, 0, 0, ..., 0, 0, 0],\n",
       "       [0, 0, 0, ..., 0, 0, 0],\n",
       "       ...,\n",
       "       [0, 0, 0, ..., 0, 0, 0],\n",
       "       [0, 0, 0, ..., 0, 0, 0],\n",
       "       [0, 0, 0, ..., 0, 0, 0]], dtype=uint8)"
      ]
     },
     "execution_count": 18,
     "metadata": {},
     "output_type": "execute_result"
    }
   ],
   "source": [
    "rect_image = np.zeros((500,500), np.uint8)\n",
    "cv2.rectangle(rect_image, (100,100), (400,250), 255, -1)"
   ]
  },
  {
   "cell_type": "markdown",
   "metadata": {},
   "source": [
    "3. 비트 연산자 AND 를 사용해 원형 마스크와 사각형 마스크를 조합한다"
   ]
  },
  {
   "cell_type": "code",
   "execution_count": 5,
   "metadata": {},
   "outputs": [],
   "source": [
    "circle_and_rect_image = circle_image & rect_image"
   ]
  },
  {
   "cell_type": "markdown",
   "metadata": {},
   "source": [
    "4. 비트 연산자 or 를 사용해 원형 마스크와 사각형 마스크를 조합한다"
   ]
  },
  {
   "cell_type": "code",
   "execution_count": 6,
   "metadata": {},
   "outputs": [],
   "source": [
    "circle_or_rect_image = circle_image | rect_image"
   ]
  },
  {
   "cell_type": "markdown",
   "metadata": {},
   "source": [
    "5. 결과를 시각화한다"
   ]
  },
  {
   "cell_type": "code",
   "execution_count": 10,
   "metadata": {},
   "outputs": [
    {
     "data": {
      "image/png": "[encoded data removed]",
      "text/plain": [
       "<Figure size 720x720 with 4 Axes>"
      ]
     },
     "metadata": {},
     "output_type": "display_data"
    }
   ],
   "source": [
    "plt.figure(figsize=(10,10))\n",
    "plt.subplot(221)\n",
    "plt.axis('off')\n",
    "plt.title('circle')\n",
    "plt.imshow(circle_image, cmap='gray')\n",
    "plt.subplot(222)\n",
    "plt.axis('off')\n",
    "plt.title('rectangle')\n",
    "plt.imshow(rect_image, cmap='gray')\n",
    "plt.subplot(223)\n",
    "plt.axis('off')\n",
    "plt.title('circle & rectangle')\n",
    "plt.imshow(circle_and_rect_image, cmap='gray')\n",
    "plt.subplot(224)\n",
    "plt.axis('off')\n",
    "plt.title('circle | rectangle')\n",
    "plt.imshow(circle_or_rect_image, cmap='gray')\n",
    "plt.tight_layout(True)\n",
    "plt.show()"
   ]
  },
  {
   "cell_type": "markdown",
   "metadata": {},
   "source": [
    "- 0과 255 값만 갖는 np.uint8 배열을 사용한 이진 이미지(흑백 픽셀만 포함하는 이미지)를 사용하는 것이 편리\n",
    "- OpenCV와 Numpy는 모두 NOT, AND, OR, XOR 같은 모든 이진 연산자를 지원한다.\n",
    "- 이진 연산은 ~, &, |, ^ 같은 기호를 사용하며, cv2.bitwise_not/np.bitwise_not, cv2.bitwise_and/np.bitwise_and 같은 함수를 사용할 수도 있다."
   ]
  },
  {
   "cell_type": "code",
   "execution_count": 13,
   "metadata": {},
   "outputs": [],
   "source": [
    "circle_rect_image1 = circle_image ^ rect_image"
   ]
  },
  {
   "cell_type": "code",
   "execution_count": 20,
   "metadata": {},
   "outputs": [
    {
     "data": {
      "image/png": "[encoded data removed]",
      "text/plain": [
       "<Figure size 720x720 with 4 Axes>"
      ]
     },
     "metadata": {},
     "output_type": "display_data"
    }
   ],
   "source": [
    "plt.figure(figsize=(10,10))\n",
    "plt.subplot(221)\n",
    "plt.axis('off')\n",
    "plt.title('circle')\n",
    "plt.imshow(circle_image, cmap='gray')\n",
    "plt.subplot(222)\n",
    "plt.axis('off')\n",
    "plt.title('circle & rectangle')\n",
    "plt.imshow(circle_and_rect_image, cmap='gray')\n",
    "plt.subplot(223)\n",
    "plt.axis('off')\n",
    "plt.title('circle | rectangle')\n",
    "plt.imshow(circle_or_rect_image, cmap='gray')\n",
    "plt.subplot(224)\n",
    "plt.axis('off')\n",
    "plt.title('circle ^ rectangle')\n",
    "plt.imshow(circle_rect_image1, cmap = 'gray')\n",
    "plt.tight_layout(True)\n",
    "plt.show()"
   ]
  },
  {
   "cell_type": "code",
   "execution_count": null,
   "metadata": {},
   "outputs": [],
   "source": []
  }
 ],
 "metadata": {
  "kernelspec": {
   "display_name": "Python 3",
   "language": "python",
   "name": "python3"
  },
  "language_info": {
   "codemirror_mode": {
    "name": "ipython",
    "version": 3
   },
   "file_extension": ".py",
   "mimetype": "text/x-python",
   "name": "python",
   "nbconvert_exporter": "python",
   "pygments_lexer": "ipython3",
   "version": "3.5.5"
  }
 },
 "nbformat": 4,
 "nbformat_minor": 2
}
